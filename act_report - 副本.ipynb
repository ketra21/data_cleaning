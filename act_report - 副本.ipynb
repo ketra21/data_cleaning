{
 "cells": [
  {
   "cell_type": "markdown",
   "metadata": {},
   "source": [
    "## Act_Report\n",
    "1. 整理后数据共计1994条记录，时间范围为2015年11月-2017年0月，其中主要集中在2015年11，12月;\n",
    "\n",
    "![](https://raw.githubusercontent.com/ketra21/data_cleaning/master/date_distributing.png)\n",
    "\n",
    "- 评分的分母（rating_denominator）均为10，评分的分子（rating_numerator）大多略大于10，平均分为10.92，可见作者总体对狗狗评分较高；  \n",
    "- 大部分记录中只有一张照片，最高有4张照片；  \n",
    "- 平均转发数为2787，平均点赞数为9295；  \n",
    "- 数量排名前五位的狗狗名字分别是：'Charlie', 'Cooper', 'Oliver', 'Tucker', 'Lucy';\n",
    "- 在所有的1477条记录中，狗狗品种共有111 种,其中排名前10位的狗狗品种 ['golden_retriever', 'Labrador_retriever', 'Pembroke', 'Chihuahua', 'pug', 'chow', 'Samoyed', 'Pomeranian', 'toy_poodle', 'malamute'] 的数量占狗狗总数量的43.0%;\n",
    "![](https://raw.githubusercontent.com/ketra21/data_cleaning/master/se_count.png)\n",
    "- 评分最高的前10位的狗狗品种分别是：'clumber', 'soft-coated_wheaten_terrier', 'West_Highland_white_terrier','Great_Pyrenees', 'borzoi', 'Labrador_retriever', 'Siberian_husky','golden_retriever', 'Pomeranian', 'Saluki'；\n",
    "- 作者平均评分最高的一只狗狗品种是Saluki；\n",
    "- retweet_count和favorite_count呈现正相关性；\n",
    "\n",
    "![](https://raw.githubusercontent.com/ketra21/data_cleaning/master/retweet_coun_favorite_count.png)\n",
    "- 转发数和评分的相关性不大.\n",
    "\n",
    "![](https://raw.githubusercontent.com/ketra21/data_cleaning/master/retweet_coun_rating_numerator.png)"
   ]
  }
 ],
 "metadata": {
  "kernelspec": {
   "display_name": "Python 3",
   "language": "python",
   "name": "python3"
  },
  "language_info": {
   "codemirror_mode": {
    "name": "ipython",
    "version": 3
   },
   "file_extension": ".py",
   "mimetype": "text/x-python",
   "name": "python",
   "nbconvert_exporter": "python",
   "pygments_lexer": "ipython3",
   "version": "3.6.6"
  }
 },
 "nbformat": 4,
 "nbformat_minor": 2
}
