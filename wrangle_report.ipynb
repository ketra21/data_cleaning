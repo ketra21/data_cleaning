{
 "cells": [
  {
   "cell_type": "markdown",
   "metadata": {},
   "source": [
    "## Wrangle_Report\n",
    "- 数据来源：\n",
    " 1. 首先根据网页tsv使用request获取了image-predictions.tsv的预测数据；\n",
    " 2. 下载twitter-archive-enhanced.csv的推特档案数据，读取json格式的；\n",
    " 3. 没有使用tweet的API接口爬取数据，而是直接使用了网站提供的tweet_json.txt的转发/点赞数数据；\n",
    "- 在数据评估部分，分别使用目测评估和编程评估发现了**8+个质量问题和2个结构问题**，其中第6个质量问题包含大量数据准确性的问题；\n",
    "\n",
    " 质量问题\n",
    "\n",
    " 1. timestamp格式为str\n",
    " 2. “地位”几列（doggo,floofer,pupper,puppo）空缺数据以None填充\n",
    " 3. 存在181个转发的记录\n",
    " 4. expanded_urls存在数据重复\n",
    " 5. name列存在数据缺失，填写为None或a的记录\n",
    " 6. 评分问题:\n",
    " 7. 部分图片第一个识别项目预测不是狗狗照片\n",
    " 8. df_image共有2075条记录，df_archive和df均有2352记录。\n",
    " \n",
    " 结构问题\n",
    "\n",
    " 9. df_archive和包含评论/点赞数的df在两个表中  \n",
    " 10. “地位”（doggo,floofer,pupper,puppo）在不同列中\n",
    "\n",
    "\n",
    "- 保存原始表备份，随后对10个问题进行了清洗；\n",
    "- 清洗后最终得到一个表并储存为twitter_archive_master.csv；\n",
    "- 最后对数据进行了简单的分析和可视化；\n",
    "\n",
    "- 可以进行的进一步探索：\n",
    " 1. 对text列的文本分析；\n",
    " 2. 对转发和原发的数据的对比分析；\n",
    " 3. 对等级的进一步分析；\n",
    " 4. 可以基于时间和评分的关系，探索两者是否有一定的相关性。"
   ]
  }
 ],
 "metadata": {
  "kernelspec": {
   "display_name": "Python 3",
   "language": "python",
   "name": "python3"
  },
  "language_info": {
   "codemirror_mode": {
    "name": "ipython",
    "version": 3
   },
   "file_extension": ".py",
   "mimetype": "text/x-python",
   "name": "python",
   "nbconvert_exporter": "python",
   "pygments_lexer": "ipython3",
   "version": "3.6.6"
  }
 },
 "nbformat": 4,
 "nbformat_minor": 2
}
