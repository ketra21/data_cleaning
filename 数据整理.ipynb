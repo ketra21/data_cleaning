{
 "cells": [
  {
   "cell_type": "markdown",
   "metadata": {},
   "source": []
  },
  {
   "cell_type": "markdown",
   "metadata": {},
   "source": [
    "两篇论文:  \n",
    "[https://cran.r-project.org/web/packages/tidyr/vignettes/tidy-data.html](https://cran.r-project.org/web/packages/tidyr/vignettes/tidy-data.html)  \n",
    "[http://vita.had.co.nz/papers/tidy-data.html](http://vita.had.co.nz/papers/tidy-data.html)\n"
   ]
  },
  {
   "cell_type": "markdown",
   "metadata": {},
   "source": [
    "### 从网络获取数据"
   ]
  },
  {
   "cell_type": "code",
   "execution_count": 5,
   "metadata": {},
   "outputs": [
    {
     "data": {
      "text/html": [
       "<div>\n",
       "<style scoped>\n",
       "    .dataframe tbody tr th:only-of-type {\n",
       "        vertical-align: middle;\n",
       "    }\n",
       "\n",
       "    .dataframe tbody tr th {\n",
       "        vertical-align: top;\n",
       "    }\n",
       "\n",
       "    .dataframe thead th {\n",
       "        text-align: right;\n",
       "    }\n",
       "</style>\n",
       "<table border=\"1\" class=\"dataframe\">\n",
       "  <thead>\n",
       "    <tr style=\"text-align: right;\">\n",
       "      <th></th>\n",
       "      <th>tweet_id</th>\n",
       "      <th>jpg_url</th>\n",
       "      <th>img_num</th>\n",
       "      <th>p1</th>\n",
       "      <th>p1_conf</th>\n",
       "      <th>p1_dog</th>\n",
       "      <th>p2</th>\n",
       "      <th>p2_conf</th>\n",
       "      <th>p2_dog</th>\n",
       "      <th>p3</th>\n",
       "      <th>p3_conf</th>\n",
       "      <th>p3_dog</th>\n",
       "    </tr>\n",
       "  </thead>\n",
       "  <tbody>\n",
       "    <tr>\n",
       "      <th>0</th>\n",
       "      <td>666020888022790149</td>\n",
       "      <td>https://pbs.twimg.com/media/CT4udn0WwAA0aMy.jpg</td>\n",
       "      <td>1</td>\n",
       "      <td>Welsh_springer_spaniel</td>\n",
       "      <td>0.465074</td>\n",
       "      <td>True</td>\n",
       "      <td>collie</td>\n",
       "      <td>0.156665</td>\n",
       "      <td>True</td>\n",
       "      <td>Shetland_sheepdog</td>\n",
       "      <td>0.061428</td>\n",
       "      <td>True</td>\n",
       "    </tr>\n",
       "    <tr>\n",
       "      <th>1</th>\n",
       "      <td>666029285002620928</td>\n",
       "      <td>https://pbs.twimg.com/media/CT42GRgUYAA5iDo.jpg</td>\n",
       "      <td>1</td>\n",
       "      <td>redbone</td>\n",
       "      <td>0.506826</td>\n",
       "      <td>True</td>\n",
       "      <td>miniature_pinscher</td>\n",
       "      <td>0.074192</td>\n",
       "      <td>True</td>\n",
       "      <td>Rhodesian_ridgeback</td>\n",
       "      <td>0.072010</td>\n",
       "      <td>True</td>\n",
       "    </tr>\n",
       "    <tr>\n",
       "      <th>2</th>\n",
       "      <td>666033412701032449</td>\n",
       "      <td>https://pbs.twimg.com/media/CT4521TWwAEvMyu.jpg</td>\n",
       "      <td>1</td>\n",
       "      <td>German_shepherd</td>\n",
       "      <td>0.596461</td>\n",
       "      <td>True</td>\n",
       "      <td>malinois</td>\n",
       "      <td>0.138584</td>\n",
       "      <td>True</td>\n",
       "      <td>bloodhound</td>\n",
       "      <td>0.116197</td>\n",
       "      <td>True</td>\n",
       "    </tr>\n",
       "    <tr>\n",
       "      <th>3</th>\n",
       "      <td>666044226329800704</td>\n",
       "      <td>https://pbs.twimg.com/media/CT5Dr8HUEAA-lEu.jpg</td>\n",
       "      <td>1</td>\n",
       "      <td>Rhodesian_ridgeback</td>\n",
       "      <td>0.408143</td>\n",
       "      <td>True</td>\n",
       "      <td>redbone</td>\n",
       "      <td>0.360687</td>\n",
       "      <td>True</td>\n",
       "      <td>miniature_pinscher</td>\n",
       "      <td>0.222752</td>\n",
       "      <td>True</td>\n",
       "    </tr>\n",
       "    <tr>\n",
       "      <th>4</th>\n",
       "      <td>666049248165822465</td>\n",
       "      <td>https://pbs.twimg.com/media/CT5IQmsXIAAKY4A.jpg</td>\n",
       "      <td>1</td>\n",
       "      <td>miniature_pinscher</td>\n",
       "      <td>0.560311</td>\n",
       "      <td>True</td>\n",
       "      <td>Rottweiler</td>\n",
       "      <td>0.243682</td>\n",
       "      <td>True</td>\n",
       "      <td>Doberman</td>\n",
       "      <td>0.154629</td>\n",
       "      <td>True</td>\n",
       "    </tr>\n",
       "  </tbody>\n",
       "</table>\n",
       "</div>"
      ],
      "text/plain": [
       "             tweet_id                                          jpg_url  \\\n",
       "0  666020888022790149  https://pbs.twimg.com/media/CT4udn0WwAA0aMy.jpg   \n",
       "1  666029285002620928  https://pbs.twimg.com/media/CT42GRgUYAA5iDo.jpg   \n",
       "2  666033412701032449  https://pbs.twimg.com/media/CT4521TWwAEvMyu.jpg   \n",
       "3  666044226329800704  https://pbs.twimg.com/media/CT5Dr8HUEAA-lEu.jpg   \n",
       "4  666049248165822465  https://pbs.twimg.com/media/CT5IQmsXIAAKY4A.jpg   \n",
       "\n",
       "   img_num                      p1   p1_conf  p1_dog                  p2  \\\n",
       "0        1  Welsh_springer_spaniel  0.465074    True              collie   \n",
       "1        1                 redbone  0.506826    True  miniature_pinscher   \n",
       "2        1         German_shepherd  0.596461    True            malinois   \n",
       "3        1     Rhodesian_ridgeback  0.408143    True             redbone   \n",
       "4        1      miniature_pinscher  0.560311    True          Rottweiler   \n",
       "\n",
       "    p2_conf  p2_dog                   p3   p3_conf  p3_dog  \n",
       "0  0.156665    True    Shetland_sheepdog  0.061428    True  \n",
       "1  0.074192    True  Rhodesian_ridgeback  0.072010    True  \n",
       "2  0.138584    True           bloodhound  0.116197    True  \n",
       "3  0.360687    True   miniature_pinscher  0.222752    True  \n",
       "4  0.243682    True             Doberman  0.154629    True  "
      ]
     },
     "execution_count": 5,
     "metadata": {},
     "output_type": "execute_result"
    }
   ],
   "source": [
    "import os\n",
    "import requests\n",
    "import pandas as pd\n",
    "\n",
    "# 发送get请求，获取网页数据（tsv文件）\n",
    "url = 'https://raw.githubusercontent.com/udacity/new-dand-advanced-china/master/%E6%95%B0%E6%8D%AE%E6%B8%85%E6%B4%97/WeRateDogs%E9%A1%B9%E7%9B%AE/image-predictions.tsv'\n",
    "res = requests.get(url)\n",
    "\n",
    "# 创建文件夹\n",
    "folder_name = 'data'\n",
    "if not os.path.exists(folder_name):\n",
    "    os.makedirs(folder_name)\n",
    "\n",
    "# 输出到文件\n",
    "file_name = url.split('/')[-1]\n",
    "with open(os.path.join(folder_name, file_name), mode='wb') as file:\n",
    "    file.write(res.content)\n",
    "\n",
    "# 再用pandas读取tsv文件\n",
    "data = pd.read_table(os.path.join(folder_name, file_name))\n",
    "data.head()"
   ]
  },
  {
   "cell_type": "markdown",
   "metadata": {},
   "source": [
    "### 用 python 从互联网下载文件"
   ]
  },
  {
   "cell_type": "code",
   "execution_count": 7,
   "metadata": {},
   "outputs": [],
   "source": [
    "import os\n",
    "import requests\n",
    "\n",
    "data_urls = ['https://raw.githubusercontent.com/udacity/new-dand-advanced-china/master/%E6%95%B0%E6%8D%AE%E6%B8%85%E6%B4%97/WeRateDogs%E9%A1%B9%E7%9B%AE/image-predictions.tsv']\n",
    "# 新建文件夹\n",
    "folder_name = 'data'\n",
    "if not os.path.exists(folder_name):\n",
    "    os.makedirs(folder_name)\n",
    "\n",
    "# 对url循环遍历\n",
    "for url in data_urls:\n",
    "    res = requests.get(url)\n",
    "    file_name = url.split('/')[-1]\n",
    "    # 将网页内容写入到文件\n",
    "    with open(os.path.join(folder_name, file_name), mode='wb') as file:\n",
    "        file.write(res.content)"
   ]
  },
  {
   "cell_type": "markdown",
   "metadata": {},
   "source": [
    "## python 中处理 json 数据  \n",
    "json库官指：http://docs.python-guide.org/en/latest/scenarios/json/\n",
    "#### json对象有如下形式，它的键必须是字符串："
   ]
  },
  {
   "cell_type": "code",
   "execution_count": 9,
   "metadata": {},
   "outputs": [
    {
     "ename": "IndentationError",
     "evalue": "unexpected indent (<ipython-input-9-112a33cdacef>, line 2)",
     "output_type": "error",
     "traceback": [
      "\u001b[1;36m  File \u001b[1;32m\"<ipython-input-9-112a33cdacef>\"\u001b[1;36m, line \u001b[1;32m2\u001b[0m\n\u001b[1;33m    \"Directed by\": \"Steven Spielberg\",\u001b[0m\n\u001b[1;37m    ^\u001b[0m\n\u001b[1;31mIndentationError\u001b[0m\u001b[1;31m:\u001b[0m unexpected indent\n"
     ]
    }
   ],
   "source": [
    "{\n",
    "  \"Directed by\": \"Steven Spielberg\",\n",
    "  \"Produced by\": [\n",
    "    \"K.K.\",\n",
    "    \"Steven Spielberg\"\n",
    "  ],\n",
    "  \"Written by\": \"Melissa Mathison\"\n",
    "  \"Running time\": 114\n",
    "}"
   ]
  },
  {
   "cell_type": "markdown",
   "metadata": {},
   "source": [
    "json 对象的值可以是任何有效的 json 数据类型：字符串，数字，JSON 数组，布尔值，空值（null），JSON 对象。    \n",
    "JSON 数据来源   \n",
    "- 可能来自 API   \n",
    "- 也可能来自文本文件，如此，就要引入 json 库"
   ]
  },
  {
   "cell_type": "code",
   "execution_count": 11,
   "metadata": {
    "scrolled": true
   },
   "outputs": [
    {
     "name": "stdout",
     "output_type": "stream",
     "text": [
      "{\"first_name\": \"Guido\", \"second_name\": \"Rossum\", \"titles\": [\"BDFL\", \"Developer\"]}\n"
     ]
    },
    {
     "data": {
      "text/plain": [
       "'{\"first_name\": \"Guido\", \"last_name\": \"Rossum\", \"titles\": [\"BDFL\", \"Developer\"]}'"
      ]
     },
     "execution_count": 11,
     "metadata": {},
     "output_type": "execute_result"
    }
   ],
   "source": [
    "json_string = '{\"first_name\": \"Guido\", \"last_name\":\"Rossum\"}'\n",
    "\n",
    "import json\n",
    "# JSON data to normal dictionary\n",
    "parsed_json = json.loads(json_string)\n",
    "\n",
    "# dictionary to JSON data\n",
    "d = {\n",
    "    'first_name': 'Guido',\n",
    "    'second_name': 'Rossum',\n",
    "    'titles': ['BDFL', 'Developer'],\n",
    "}\n",
    "\n",
    "print(json.dumps(d))\n",
    "'{\"first_name\": \"Guido\", \"last_name\": \"Rossum\", \"titles\": [\"BDFL\", \"Developer\"]}'"
   ]
  },
  {
   "cell_type": "markdown",
   "metadata": {},
   "source": [
    "### pandas 用均值填充缺失值列的技巧"
   ]
  },
  {
   "cell_type": "code",
   "execution_count": 12,
   "metadata": {},
   "outputs": [
    {
     "ename": "SyntaxError",
     "evalue": "invalid syntax (<ipython-input-12-edbf3fb41d34>, line 9)",
     "output_type": "error",
     "traceback": [
      "\u001b[1;36m  File \u001b[1;32m\"<ipython-input-12-edbf3fb41d34>\"\u001b[1;36m, line \u001b[1;32m9\u001b[0m\n\u001b[1;33m    contributors                      True\u001b[0m\n\u001b[1;37m                                         ^\u001b[0m\n\u001b[1;31mSyntaxError\u001b[0m\u001b[1;31m:\u001b[0m invalid syntax\n"
     ]
    }
   ],
   "source": [
    "for column in list(df.columns[df.isnull().sum() > 0]):\n",
    "    mean_val = df[column].mean()\n",
    "    df[column].fillna(mean_val, inplace=True)\n",
    "\n",
    "# -------代码分解-------\n",
    "# 判断哪些列有缺失值，得到series对象\n",
    "df.isnull().sum() > 0\n",
    "# output\n",
    "contributors                      True\n",
    "coordinates                       True\n",
    "created_at                       False\n",
    "display_text_range               False\n",
    "entities                         False\n",
    "extended_entities                 True\n",
    "favorite_count                   False\n",
    "favorited                        False\n",
    "full_text                        False\n",
    "geo                               True\n",
    "id                               False\n",
    "id_str                           False\n",
    "...\n",
    "\n",
    "# 根据上一步结果，筛选需要填充的列\n",
    "df.columns[df.isnull().sum() > 0]\n",
    "# output\n",
    "Index(['contributors', 'coordinates', 'extended_entities', 'geo',\n",
    "       'in_reply_to_screen_name', 'in_reply_to_status_id',\n",
    "       'in_reply_to_status_id_str', 'in_reply_to_user_id',\n",
    "       'in_reply_to_user_id_str', 'place', 'possibly_sensitive',\n",
    "       'possibly_sensitive_appealable', 'quoted_status', 'quoted_status_id',\n",
    "       'quoted_status_id_str', 'retweeted_status'],\n",
    "      dtype='object')"
   ]
  },
  {
   "cell_type": "markdown",
   "metadata": {},
   "source": [
    "#### pandas 中 .stack() 的使用\n",
    "有时候需要将特征名称转化为变量，也就是将数据集由横向改为纵向，或者为转秩。使用场景如下："
   ]
  },
  {
   "cell_type": "code",
   "execution_count": 13,
   "metadata": {},
   "outputs": [
    {
     "ename": "SyntaxError",
     "evalue": "invalid syntax (<ipython-input-13-546b5c3e58f8>, line 3)",
     "output_type": "error",
     "traceback": [
      "\u001b[1;36m  File \u001b[1;32m\"<ipython-input-13-546b5c3e58f8>\"\u001b[1;36m, line \u001b[1;32m3\u001b[0m\n\u001b[1;33m    Out[5]:\u001b[0m\n\u001b[1;37m            ^\u001b[0m\n\u001b[1;31mSyntaxError\u001b[0m\u001b[1;31m:\u001b[0m invalid syntax\n"
     ]
    }
   ],
   "source": [
    "# 数据集\n",
    "In [5]: test\n",
    "Out[5]: \n",
    "             tweet_id doggo floofer  pupper puppo\n",
    "0  675003128568291329  None    None    None  None\n",
    "1  786233965241827333  None    None    None  None\n",
    "2  683481228088049664  None    None  pupper  None\n",
    "3  675497103322386432  None    None    None  None\n",
    "\n",
    "# 先设置index，再使用.stack()方法由横向变纵向，对特征进行命名\n",
    "In [6]: s1 = test.set_index('tweet_id').stack().rename('stage')\n",
    "\n",
    "In [7]: s1\n",
    "Out[7]: \n",
    "tweet_id                   \n",
    "675003128568291329  doggo        None\n",
    "                    floofer      None\n",
    "                    pupper       None\n",
    "                    puppo        None\n",
    "786233965241827333  doggo        None\n",
    "                    floofer      None\n",
    "                    pupper       None\n",
    "                    puppo        None\n",
    "683481228088049664  doggo        None\n",
    "                    floofer      None\n",
    "                    pupper     pupper\n",
    "                    puppo        None\n",
    "675497103322386432  doggo        None\n",
    "                    floofer      None\n",
    "                    pupper       None\n",
    "                    puppo        None\n",
    "Name: stage, dtype: object\n",
    "\n",
    "# 将多重索引reset\n",
    "In [8]: s2 = s1.reset_index()\n",
    "\n",
    "In [9]: s2\n",
    "Out[9]: \n",
    "              tweet_id  level_1   stage\n",
    "0   675003128568291329    doggo    None\n",
    "1   675003128568291329  floofer    None\n",
    "2   675003128568291329   pupper    None\n",
    "3   675003128568291329    puppo    None\n",
    "4   786233965241827333    doggo    None\n",
    "5   786233965241827333  floofer    None\n",
    "6   786233965241827333   pupper    None\n",
    "7   786233965241827333    puppo    None\n",
    "8   683481228088049664    doggo    None\n",
    "9   683481228088049664  floofer    None\n",
    "10  683481228088049664   pupper  pupper\n",
    "11  683481228088049664    puppo    None\n",
    "12  675497103322386432    doggo    None\n",
    "13  675497103322386432  floofer    None\n",
    "14  675497103322386432   pupper    None\n",
    "15  675497103322386432    puppo    None\n",
    "\n",
    "# 将level_1列删除，同时stage列只保留不为none的数据\n",
    "In [10]: s2.drop(['level_1'], axis=1, inplace=True)\n",
    "\n",
    "In [11]: s3 = s2[s2.stage != 'None']\n",
    "\n",
    "In [12]: s3\n",
    "Out[12]: \n",
    "              tweet_id   stage\n",
    "10  683481228088049664  pupper\n",
    "\n",
    "# 跟原始数据集进行合并\n",
    "In [14]: result = pd.merge(test, s3, how='left', on='tweet_id')\n",
    "\n",
    "In [15]: result\n",
    "Out[15]: \n",
    "             tweet_id doggo floofer  pupper puppo   stage\n",
    "0  675003128568291329  None    None    None  None     NaN\n",
    "1  786233965241827333  None    None    None  None     NaN\n",
    "2  683481228088049664  None    None  pupper  None  pupper\n",
    "3  675497103322386432  None    None    None  None     NaN\n",
    "\n",
    "# 删除中间特征，得到最终结果\n",
    "In [16]: result.drop(['doggo','floofer','pupper','puppo'], axis=1)\n",
    "Out[16]: \n",
    "             tweet_id   stage\n",
    "0  675003128568291329     NaN\n",
    "1  786233965241827333     NaN\n",
    "2  683481228088049664  pupper\n",
    "3  675497103322386432     NaN\n",
    "\n",
    "In [17]: test\n",
    "Out[17]: \n",
    "             tweet_id doggo floofer  pupper puppo\n",
    "0  675003128568291329  None    None    None  None\n",
    "1  786233965241827333  None    None    None  None\n",
    "2  683481228088049664  None    None  pupper  None\n",
    "3  675497103322386432  None    None    None  None"
   ]
  },
  {
   "cell_type": "markdown",
   "metadata": {},
   "source": [
    "正则表达式：https://blog.csdn.net/Guo_ya_nan/article/details/80307814  \n",
    "coursera课程：https://www.coursera.org/learn/python-network-data#pricing"
   ]
  }
 ],
 "metadata": {
  "kernelspec": {
   "display_name": "Python 3",
   "language": "python",
   "name": "python3"
  },
  "language_info": {
   "codemirror_mode": {
    "name": "ipython",
    "version": 3
   },
   "file_extension": ".py",
   "mimetype": "text/x-python",
   "name": "python",
   "nbconvert_exporter": "python",
   "pygments_lexer": "ipython3",
   "version": "3.6.6"
  }
 },
 "nbformat": 4,
 "nbformat_minor": 2
}
